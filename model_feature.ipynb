{
  "cells": [
    {
      "cell_type": "markdown",
      "source": [
        "#### **Sincerity of an Emotion**\n",
        "Determining the sincerity of an emotion is a complex and nuanced process, as emotions can be expressed in different ways depending on the individual and the situation. The following can help us in determining the sincerity of an emotion:\n",
        "\n",
        "*1) Looking for consistency*: If someone's emotional expression is consistent with their words and actions, it's more likely to be sincere. For example, if someone expresses happiness and their body language and behavior reflect that emotion, it's more likely to be genuine.\n",
        "\n",
        "*2) Considering context*: Emotions can be influenced by a range of factors, such as culture, personality, and past experiences. Consider the context in which the emotion is expressed, as well as the person's background and history, to better understand the sincerity of their emotions.\n",
        "\n",
        "*3) Looking for microexpressions*: Microexpressions are brief, involuntary facial expressions that reveal an individual's true emotions. If someone is trying to hide their emotions, they may still display microexpressions that reveal their true feelings.\n",
        "\n",
        "*4) Listening to the tone of voice*: The tone of voice can provide clues to the sincerity of an emotion. If someone's voice sounds flat or robotic, it may suggest that they are not being genuine.\n",
        "\n",
        "Below we have worked upon the third point i.e. **looked for microexpressions** in an image. We started by extracting micro features from the images, as such features can somewhat give us a cue as to the state of the person emotions, such as:\n",
        "\n",
        "* *Eyebrow position*: When a person is surprised or angry, their eyebrows are typically raised. When they are sad or disappointed, their eyebrows may be lowered.\n",
        "\n",
        "* *Mouth shape*: The shape of a person's mouth can indicate a range of emotions. For example, a smile may indicate happiness, while a frown may indicate sadness or anger.\n",
        "\n",
        "* *Wrinkles around the eyes*: The presence of wrinkles around the eyes, also known as crow's feet, can indicate that a person is smiling or happy.\n",
        "\n",
        "* *Eye openness*: The size of a person's eyes can indicate a range of emotions. For example, when a person is surprised or scared, their eyes may widen. Conversely, when a person is angry, their eyes may narrow.\n",
        "\n",
        "* *Lip curvature*: The curvature of a person's lips can indicate whether they are smiling or frowning.\n",
        "\n",
        "* *Nose wrinkles*: The presence of wrinkles on a person's nose can indicate a range of emotions, such as disgust or anger.\n",
        "\n",
        "* *Jaw tension*: The tension in a person's jaw muscles can provide an indication of their emotional state. For example, a person who is angry or stressed may clench their jaw.\n",
        "\n",
        "* *Brow furrows*: The degree to which a person's eyebrows are furrowed can indicate their level of stress or anger.\n",
        "\n",
        "* *Mouth opening*: The degree to which a person's mouth is open can indicate a range of emotions, such as surprise, fear, or happiness.\n",
        "\n",
        "* *Chin thrust*: The position of a person's chin can indicate their level of confidence or assertiveness.\n",
        "\n",
        "**PS** : In total we have extracted 18 features and used them in addition to the features extracted from our images.\n",
        "\n",
        "Furthermore, speech analysis algorithms can be used to detect changes in pitch, tone, and other characteristics that may indicate sincerity or insincerity or explore the context and consistency to further help us in our objective."
      ],
      "metadata": {
        "id": "vdmgl-1veMzk"
      }
    },
    {
      "cell_type": "code",
      "source": [
        "from google.colab import drive\n",
        "drive.mount('/content/drive')"
      ],
      "metadata": {
        "colab": {
          "base_uri": "https://localhost:8080/"
        },
        "id": "mDcx8XO-qFO-",
        "outputId": "1683513d-07ec-4131-9330-9a1ec4573707"
      },
      "execution_count": 1,
      "outputs": [
        {
          "output_type": "stream",
          "name": "stdout",
          "text": [
            "Mounted at /content/drive\n"
          ]
        }
      ]
    },
    {
      "cell_type": "code",
      "execution_count": 2,
      "metadata": {
        "id": "KF_GpZ-hboR_",
        "colab": {
          "base_uri": "https://localhost:8080/"
        },
        "outputId": "a528bf98-9487-476b-fbbf-ca846f75ecc3"
      },
      "outputs": [
        {
          "output_type": "stream",
          "name": "stdout",
          "text": [
            "Downloading http://dlib.net/files/shape_predictor_68_face_landmarks.dat.bz2 to /root/mlxtend_data/shape_predictor_68_face_landmarks.dat.bz2\n"
          ]
        }
      ],
      "source": [
        "import numpy as np\n",
        "import pandas as pd\n",
        "import random\n",
        "import dlib\n",
        "import h5py\n",
        "import cv2\n",
        "import os\n",
        "import gc\n",
        "import pickle\n",
        "\n",
        "import seaborn as sns\n",
        "import matplotlib.pyplot as plt\n",
        "\n",
        "from mlxtend.image import extract_face_landmarks\n",
        "\n",
        "from sklearn.model_selection import train_test_split\n",
        "from sklearn.preprocessing import StandardScaler\n",
        "from sklearn.metrics import classification_report, confusion_matrix\n",
        "\n",
        "import imageio\n",
        "import imgaug as ia\n",
        "import imgaug.augmenters as iaa\n",
        "\n",
        "import tensorflow as tf\n",
        "from keras import optimizers, regularizers\n",
        "from keras.models import Sequential, Model\n",
        "from keras.optimizers import RMSprop,SGD,Adam\n",
        "from keras.layers import Flatten, Dense, Conv2D, MaxPooling2D, Input, concatenate\n",
        "from keras.layers import Dropout, BatchNormalization, LeakyReLU\n",
        "from keras.callbacks import ModelCheckpoint, EarlyStopping, ReduceLROnPlateau\n",
        "from keras.preprocessing.image import ImageDataGenerator\n",
        "from keras.utils import np_utils"
      ]
    },
    {
      "cell_type": "code",
      "execution_count": null,
      "metadata": {
        "id": "AMkYpmLtboSC"
      },
      "outputs": [],
      "source": [
        "# adding the downloaded files to angry train files.\n",
        "\n",
        "save_dir = '/content/drive/MyDrive/Colab Notebooks/train/Angry'\n",
        "dir = '/content/drive/MyDrive/Colab Notebooks/Angry'\n",
        "face_cascade = cv2.CascadeClassifier('/content/drive/MyDrive/Colab Notebooks/haarcascade_frontalface_default.xml')\n",
        "count = 0\n",
        "\n",
        "for file in os.listdir(dir):\n",
        "    path = dir+'/'+file\n",
        "    img = cv2.imread(path, 0)\n",
        "    faces = face_cascade.detectMultiScale(img, 1.3, 5)\n",
        "\n",
        "    for (x,y,w,h) in faces:\n",
        "        img = img[y:y+h, x:x+w]\n",
        "        shape = img.shape\n",
        "        if shape[0] == 0 or shape[1] == 0:\n",
        "            continue\n",
        "        else:\n",
        "            img = cv2.resize(img, dsize=(48, 48), interpolation=cv2.INTER_NEAREST)\n",
        "            os.chdir(save_dir)\n",
        "            cv2.imwrite(file.split('-')[1]+'.jpg', img)\n",
        "\n",
        "print(count)"
      ]
    },
    {
      "cell_type": "markdown",
      "metadata": {
        "id": "vvuqEYf1boSD"
      },
      "source": [
        "Since project methodology is concerned with angry, happy, sad and neutral, we are focusing on them only"
      ]
    },
    {
      "cell_type": "code",
      "execution_count": 3,
      "metadata": {
        "id": "Y3Y2Mz7XboSF"
      },
      "outputs": [],
      "source": [
        "DIR = '/content/drive/MyDrive/Colab Notebooks/train/'\n",
        "emotions = ['Angry', 'Happy', 'Neutral', 'Sad']\n",
        "IMG_SIZE = 96"
      ]
    },
    {
      "cell_type": "markdown",
      "metadata": {
        "id": "x2BOM0KcboSG"
      },
      "source": [
        "#### **Getting Face Landmarks and using them to extract soft signals to detect emotions**"
      ]
    },
    {
      "cell_type": "markdown",
      "metadata": {
        "id": "ftX9YNHFboSG"
      },
      "source": [
        "#### Features Extraction"
      ]
    },
    {
      "cell_type": "code",
      "execution_count": 4,
      "metadata": {
        "id": "1iduDY-eboSI"
      },
      "outputs": [],
      "source": [
        "'''Eye aspect ratio (EAR): The eye aspect ratio is a measure of \n",
        "how open or closed a person's eyes are. A lower EAR value can \n",
        "indicate that the person's eyes are closed or partially closed, \n",
        "which could be a sign of fatigue, boredom, or sadness.'''\n",
        "\n",
        "import math\n",
        "def eye_aspect_ratio(eye):\n",
        "    A = math.dist(eye[1], eye[5])\n",
        "    B = math.dist(eye[2], eye[4])\n",
        "    C = math.dist(eye[0], eye[3])\n",
        "    ear = (A + B) / (2.0 * C)\n",
        "    return ear\n",
        "\n",
        "'''Mouth aspect ratio (MAR): The mouth aspect ratio is a measure\n",
        "of how open or closed a person's mouth is. A lower MAR value can\n",
        "indicate that the person's mouth is closed or partially closed,\n",
        "which could be a sign of sadness, anger, or anxiety.'''\n",
        "\n",
        "def mouth_aspect_ratio(mouth):\n",
        "    A = math.dist(mouth[13], mouth[19])\n",
        "    B = math.dist(mouth[14], mouth[18])\n",
        "    C = math.dist(mouth[15], mouth[17])\n",
        "    D = math.dist(mouth[12], mouth[16])\n",
        "    mar = (A + B + C) / (3.0 * D)\n",
        "    return mar\n",
        "\n",
        "'''Nose aspect ratio (NAR): The nose aspect ratio is a measure of\n",
        "the width of a person's nose relative to the distance between their\n",
        "eyes. A higher NAR value can indicate that the person is \n",
        "smiling or feeling happy.'''\n",
        "\n",
        "def nose_aspect_ratio(nose, landmarks):\n",
        "    # Define the indexes of the eye landmarks\n",
        "    LEFT_EYE_START_INDEX = 36\n",
        "    LEFT_EYE_END_INDEX = 41\n",
        "    RIGHT_EYE_START_INDEX = 42\n",
        "    RIGHT_EYE_END_INDEX = 47\n",
        "\n",
        "    A = math.dist(landmarks[36], landmarks[41])\n",
        "    B = math.dist(landmarks[42], landmarks[47])\n",
        "    interocular_distance = (A + B) / 2\n",
        "\n",
        "    C = math.dist(nose[0], nose[4])\n",
        "    nar = C / interocular_distance\n",
        "    return nar\n",
        "\n",
        "# extract features\n",
        "\n",
        "def extract_features(landmarks):\n",
        "    # distance between the corners of the eyes\n",
        "    eye_dist = landmarks[45][0] - landmarks[36][0]\n",
        "\n",
        "    # Eyebrow position\n",
        "    left_eyebrow_position = (landmarks[21][1] + landmarks[22][1]) / 2\n",
        "    right_eyebrow_position = (landmarks[1][1] + landmarks[18][1]) / 2\n",
        "\n",
        "    # Angle between the eyebrows\n",
        "    eyebrow_angle = np.arctan2(landmarks[21][1] - landmarks[17][1], landmarks[22][0] - landmarks[18][0]) * 180 / np.pi\n",
        "\n",
        "    # Mouth height and width\n",
        "    mouth_height = landmarks[66][1] - landmarks[62][1]\n",
        "    mouth_width = landmarks[54][0] - landmarks[48][0]\n",
        "\n",
        "    # Wrinkles around the eyes\n",
        "    left_eye_crow_feet = landmarks[41][0] - landmarks[36][0]\n",
        "    right_eye_crow_feet = landmarks[45][0] - landmarks[42][0]\n",
        "    \n",
        "    # Eye openness\n",
        "    left_eye_height = landmarks[40][1] - landmarks[38][1]\n",
        "    right_eye_height = landmarks[47][1] - landmarks[43][1]\n",
        "\n",
        "    # Nose wrinkles\n",
        "    nose_wrinkles = landmarks[31][1] - landmarks[35][1]\n",
        "\n",
        "    # Jaw tension\n",
        "    jaw_tension = landmarks[57][1] - landmarks[8][1]\n",
        "\n",
        "    # Brow furrows\n",
        "    brow_furrows = (landmarks[22][1] - landmarks[21][1]) + (landmarks[27][1] - landmarks[24][1])\n",
        "\n",
        "    # Chin thrust\n",
        "    chin_thrust = landmarks[8][1] - landmarks[51][1]\n",
        "\n",
        "    # eye aspect ratio\n",
        "    left_EAR = eye_aspect_ratio(landmarks[36:42])\n",
        "    right_EAR = eye_aspect_ratio(landmarks[42:48])\n",
        "\n",
        "    # mouth aspect ratio\n",
        "    MAR = mouth_aspect_ratio(landmarks[48:68])\n",
        "\n",
        "    # node aspect ratio\n",
        "    NAR = nose_aspect_ratio(landmarks[31:36], landmarks)\n",
        "\n",
        "    return [eye_dist, left_eyebrow_position, right_eyebrow_position, abs(round(eyebrow_angle, 3)), mouth_height, mouth_width, \n",
        "            left_eye_crow_feet, right_eye_crow_feet, left_eye_height, right_eye_height, abs(nose_wrinkles), abs(jaw_tension), \n",
        "            brow_furrows, chin_thrust, round(left_EAR,2), round(right_EAR, 3), round(MAR, 3), round(NAR, 3)]"
      ]
    },
    {
      "cell_type": "code",
      "execution_count": 5,
      "metadata": {
        "id": "51EzWnndboSJ"
      },
      "outputs": [],
      "source": [
        "# function to create dataframe for better presentation\n",
        "\n",
        "def create_dataframe(features):\n",
        "    images = []\n",
        "    eye_dist = []\n",
        "    left_eyebrow_position = []\n",
        "    right_eyebrow_position = []\n",
        "    eyebrow_angle = []\n",
        "    mouth_height = []\n",
        "    mouth_width = []\n",
        "    left_eye_crow_feet = []\n",
        "    right_eye_crow_feet = []\n",
        "    left_eye_height = []\n",
        "    right_eye_height = []\n",
        "    nose_wrinkles = []\n",
        "    jaw_tension = []\n",
        "    brow_furrows = []\n",
        "    chin_thrust = []\n",
        "    left_EAR = []\n",
        "    right_EAR = []\n",
        "    MAR = []\n",
        "    NAR = []\n",
        "    labels = []\n",
        "\n",
        "    for i in range(len(features)):\n",
        "        # getting images1\n",
        "        images.append(features[i][0] )\n",
        "\n",
        "        # getting features\n",
        "        eye_dist.append(features[i][1][0])\n",
        "        left_eyebrow_position.append(features[i][1][1])\n",
        "        right_eyebrow_position.append(features[i][1][2])\n",
        "        eyebrow_angle.append(features[i][1][3])\n",
        "        mouth_height.append(features[i][1][4])\n",
        "        mouth_width.append(features[i][1][5])\n",
        "        left_eye_crow_feet.append(features[i][1][6])\n",
        "        right_eye_crow_feet.append(features[i][1][7])\n",
        "        left_eye_height.append(features[i][1][8])\n",
        "        right_eye_height.append(features[i][1][9])\n",
        "        nose_wrinkles.append(features[i][1][10])\n",
        "        jaw_tension.append(features[i][1][11])\n",
        "        brow_furrows.append(features[i][1][12])\n",
        "        chin_thrust.append(features[i][1][13])\n",
        "        left_EAR.append(features[i][1][14])\n",
        "        right_EAR.append(features[i][1][15])\n",
        "        MAR.append(features[i][1][16])\n",
        "        NAR.append(features[i][1][17])\n",
        "\n",
        "        # labels\n",
        "        labels.append(features[i][2])\n",
        "\n",
        "    df = pd.DataFrame()\n",
        "    df['eye_dist'] = eye_dist\n",
        "    df['left_eyebrow_position'] = left_eyebrow_position\n",
        "    df['right_eyebrow_position'] = right_eyebrow_position\n",
        "    df['eyebrow_angle'] = eyebrow_angle\n",
        "    df['mouth_height'] = mouth_height\n",
        "    df['mouth_width'] = mouth_width\n",
        "    df['left_eye_crow_feet'] = left_eye_crow_feet\n",
        "    df['right_eye_crow_feet'] = right_eye_crow_feet\n",
        "    df['left_eye_height'] = left_eye_height\n",
        "    df['right_eye_height'] = right_eye_height\n",
        "    df['nose_wrinkles'] = nose_wrinkles\n",
        "    df['jaw_tension'] = jaw_tension\n",
        "    df['brow_furrows'] = brow_furrows\n",
        "    df['chin_thrust'] = chin_thrust\n",
        "    df['left_EAR'] = left_EAR\n",
        "    df['right_EAR'] = right_EAR\n",
        "    df['MAR'] = MAR\n",
        "    df['NAR'] = NAR\n",
        "    df['Images'] = images\n",
        "    df['Labels'] = labels\n",
        "\n",
        "    return df"
      ]
    },
    {
      "cell_type": "code",
      "execution_count": null,
      "metadata": {
        "id": "FDf0L_e6boSK"
      },
      "outputs": [],
      "source": [
        "# import dlib\n",
        "# import cv2\n",
        "\n",
        "# detector = dlib.get_frontal_face_detector()\n",
        "# predictor = dlib.shape_predictor('shape_predictor_68_face_landmarks.dat')\n",
        "\n",
        "# img = cv2.imread(r'C:\\Users\\himan\\ML\\PycharmProjects\\openCV\\Emotion_Detection\\train\\happy\\Training_87867.jpg', 0)\n",
        "# print(img.shape)\n",
        "\n",
        "# # detect the faces\n",
        "# faces = detector(img)\n",
        "# print(len(faces))\n",
        "# # loop over each face\n",
        "# for face in faces:\n",
        "#     # get the facial landmarks\n",
        "#     landmarks = predictor(img, face)\n",
        "#     print(landmarks.part(0))\n",
        "\n",
        "# cv2.imshow('image', img)\n",
        "# cv2.waitKey(0)\n",
        "# cv2.destroyAllWindows()"
      ]
    },
    {
      "cell_type": "markdown",
      "metadata": {
        "id": "Nh9batKrboSL"
      },
      "source": [
        "I planned on using dlib library for extracting face landamrks, but it was working poorly for my case. \n",
        "\n",
        "After which I used mlxtend to extarct landmarks, which makes use of dlib to extract face landmarks in the underlying code."
      ]
    },
    {
      "cell_type": "code",
      "execution_count": 6,
      "metadata": {
        "colab": {
          "base_uri": "https://localhost:8080/"
        },
        "id": "NDX5LiX5boSM",
        "outputId": "b29df6d4-9e2d-4fd4-a4e8-b34a959e60b3"
      },
      "outputs": [
        {
          "output_type": "stream",
          "name": "stdout",
          "text": [
            "Angry\n"
          ]
        },
        {
          "output_type": "stream",
          "name": "stderr",
          "text": [
            "/usr/local/lib/python3.9/dist-packages/mlxtend/image/extract_face_landmarks.py:61: UserWarning: No face detected.\n",
            "  warnings.warn('No face detected.')\n"
          ]
        },
        {
          "output_type": "stream",
          "name": "stdout",
          "text": [
            "Happy\n",
            "Neutral\n",
            "Sad\n"
          ]
        }
      ],
      "source": [
        "# getting images, features and labels from our inputs\n",
        "\n",
        "features = []\n",
        "count = 0\n",
        "\n",
        "for emotion in emotions:\n",
        "    image_dir = DIR+emotion\n",
        "    print(emotion)\n",
        "    for file in os.listdir(image_dir):\n",
        "        path = image_dir+'/'+file \n",
        "        #print(path)  \n",
        "        img = cv2.imread(path, 0)\n",
        "        img = cv2.resize(img, dsize=(IMG_SIZE, IMG_SIZE), interpolation=cv2.INTER_AREA)\n",
        "\n",
        "        try:\n",
        "            # detect the faces\n",
        "            landmarks = extract_face_landmarks(img)\n",
        "            #print(landmarks.shape)\n",
        "            features.append([img, extract_features(landmarks), emotions.index(emotion)])\n",
        "\n",
        "        except:\n",
        "            count += 1 "
      ]
    },
    {
      "cell_type": "code",
      "source": [
        "# # saving the features file\n",
        "\n",
        "# import pickle\n",
        "\n",
        "# with open('features.pkl', 'wb') as f:\n",
        "#   pickle.dump(features, f)"
      ],
      "metadata": {
        "id": "81G7shFwAgc5"
      },
      "execution_count": null,
      "outputs": []
    },
    {
      "cell_type": "code",
      "source": [
        "# with open('/content/drive/MyDrive/Colab Notebooks/features.pkl', 'rb') as f:\n",
        "#   features = pickle.load(f)"
      ],
      "metadata": {
        "id": "BY0tgc__AnmT"
      },
      "execution_count": null,
      "outputs": []
    },
    {
      "cell_type": "code",
      "execution_count": 7,
      "metadata": {
        "colab": {
          "base_uri": "https://localhost:8080/",
          "height": 947
        },
        "id": "erz-Yi1XboSO",
        "outputId": "5b884f31-b172-4609-bf36-a399e17db297"
      },
      "outputs": [
        {
          "output_type": "execute_result",
          "data": {
            "text/plain": [
              "   eye_dist  left_eyebrow_position  right_eyebrow_position  eyebrow_angle  \\\n",
              "0        47                   28.0                    38.0          3.814   \n",
              "1        53                   32.0                    38.5          0.000   \n",
              "2        47                   33.5                    27.0         19.026   \n",
              "3        33                   51.5                    50.0         16.699   \n",
              "4        33                   30.5                    34.0          6.116   \n",
              "\n",
              "   mouth_height  mouth_width  left_eye_crow_feet  right_eye_crow_feet  \\\n",
              "0             6           25                   4                   14   \n",
              "1            -1           34                   5                   16   \n",
              "2             6           27                   3                   14   \n",
              "3             2           18                   2                   10   \n",
              "4             1           17                   4                    7   \n",
              "\n",
              "   left_eye_height  right_eye_height  nose_wrinkles  jaw_tension  \\\n",
              "0                5                 4              0            8   \n",
              "1                3                 2              2           16   \n",
              "2                4                 4              4           11   \n",
              "3                2                 3              3            5   \n",
              "4                3                 3              1           18   \n",
              "\n",
              "   brow_furrows  chin_thrust  left_EAR  right_EAR    MAR    NAR  \\\n",
              "0            12           24      0.36      0.289  0.254  3.134   \n",
              "1            11           22      0.23      0.156  0.022  3.622   \n",
              "2             6           23      0.32      0.279  0.241  3.426   \n",
              "3             6           12      0.23      0.250  0.139  3.806   \n",
              "4             9           27      0.26      0.405  0.116  2.735   \n",
              "\n",
              "                                              Images  Labels  \n",
              "0  [[177, 177, 122, 122, 39, 39, 56, 56, 29, 29, ...       0  \n",
              "1  [[74, 74, 114, 114, 142, 142, 135, 135, 125, 1...       0  \n",
              "2  [[167, 167, 156, 156, 150, 150, 141, 141, 163,...       0  \n",
              "3  [[238, 238, 235, 235, 233, 233, 231, 231, 229,...       0  \n",
              "4  [[75, 75, 82, 82, 82, 82, 104, 104, 121, 121, ...       0  "
            ],
            "text/html": [
              "\n",
              "  <div id=\"df-81b12f6b-17be-4939-944e-3d83daf938a7\">\n",
              "    <div class=\"colab-df-container\">\n",
              "      <div>\n",
              "<style scoped>\n",
              "    .dataframe tbody tr th:only-of-type {\n",
              "        vertical-align: middle;\n",
              "    }\n",
              "\n",
              "    .dataframe tbody tr th {\n",
              "        vertical-align: top;\n",
              "    }\n",
              "\n",
              "    .dataframe thead th {\n",
              "        text-align: right;\n",
              "    }\n",
              "</style>\n",
              "<table border=\"1\" class=\"dataframe\">\n",
              "  <thead>\n",
              "    <tr style=\"text-align: right;\">\n",
              "      <th></th>\n",
              "      <th>eye_dist</th>\n",
              "      <th>left_eyebrow_position</th>\n",
              "      <th>right_eyebrow_position</th>\n",
              "      <th>eyebrow_angle</th>\n",
              "      <th>mouth_height</th>\n",
              "      <th>mouth_width</th>\n",
              "      <th>left_eye_crow_feet</th>\n",
              "      <th>right_eye_crow_feet</th>\n",
              "      <th>left_eye_height</th>\n",
              "      <th>right_eye_height</th>\n",
              "      <th>nose_wrinkles</th>\n",
              "      <th>jaw_tension</th>\n",
              "      <th>brow_furrows</th>\n",
              "      <th>chin_thrust</th>\n",
              "      <th>left_EAR</th>\n",
              "      <th>right_EAR</th>\n",
              "      <th>MAR</th>\n",
              "      <th>NAR</th>\n",
              "      <th>Images</th>\n",
              "      <th>Labels</th>\n",
              "    </tr>\n",
              "  </thead>\n",
              "  <tbody>\n",
              "    <tr>\n",
              "      <th>0</th>\n",
              "      <td>47</td>\n",
              "      <td>28.0</td>\n",
              "      <td>38.0</td>\n",
              "      <td>3.814</td>\n",
              "      <td>6</td>\n",
              "      <td>25</td>\n",
              "      <td>4</td>\n",
              "      <td>14</td>\n",
              "      <td>5</td>\n",
              "      <td>4</td>\n",
              "      <td>0</td>\n",
              "      <td>8</td>\n",
              "      <td>12</td>\n",
              "      <td>24</td>\n",
              "      <td>0.36</td>\n",
              "      <td>0.289</td>\n",
              "      <td>0.254</td>\n",
              "      <td>3.134</td>\n",
              "      <td>[[177, 177, 122, 122, 39, 39, 56, 56, 29, 29, ...</td>\n",
              "      <td>0</td>\n",
              "    </tr>\n",
              "    <tr>\n",
              "      <th>1</th>\n",
              "      <td>53</td>\n",
              "      <td>32.0</td>\n",
              "      <td>38.5</td>\n",
              "      <td>0.000</td>\n",
              "      <td>-1</td>\n",
              "      <td>34</td>\n",
              "      <td>5</td>\n",
              "      <td>16</td>\n",
              "      <td>3</td>\n",
              "      <td>2</td>\n",
              "      <td>2</td>\n",
              "      <td>16</td>\n",
              "      <td>11</td>\n",
              "      <td>22</td>\n",
              "      <td>0.23</td>\n",
              "      <td>0.156</td>\n",
              "      <td>0.022</td>\n",
              "      <td>3.622</td>\n",
              "      <td>[[74, 74, 114, 114, 142, 142, 135, 135, 125, 1...</td>\n",
              "      <td>0</td>\n",
              "    </tr>\n",
              "    <tr>\n",
              "      <th>2</th>\n",
              "      <td>47</td>\n",
              "      <td>33.5</td>\n",
              "      <td>27.0</td>\n",
              "      <td>19.026</td>\n",
              "      <td>6</td>\n",
              "      <td>27</td>\n",
              "      <td>3</td>\n",
              "      <td>14</td>\n",
              "      <td>4</td>\n",
              "      <td>4</td>\n",
              "      <td>4</td>\n",
              "      <td>11</td>\n",
              "      <td>6</td>\n",
              "      <td>23</td>\n",
              "      <td>0.32</td>\n",
              "      <td>0.279</td>\n",
              "      <td>0.241</td>\n",
              "      <td>3.426</td>\n",
              "      <td>[[167, 167, 156, 156, 150, 150, 141, 141, 163,...</td>\n",
              "      <td>0</td>\n",
              "    </tr>\n",
              "    <tr>\n",
              "      <th>3</th>\n",
              "      <td>33</td>\n",
              "      <td>51.5</td>\n",
              "      <td>50.0</td>\n",
              "      <td>16.699</td>\n",
              "      <td>2</td>\n",
              "      <td>18</td>\n",
              "      <td>2</td>\n",
              "      <td>10</td>\n",
              "      <td>2</td>\n",
              "      <td>3</td>\n",
              "      <td>3</td>\n",
              "      <td>5</td>\n",
              "      <td>6</td>\n",
              "      <td>12</td>\n",
              "      <td>0.23</td>\n",
              "      <td>0.250</td>\n",
              "      <td>0.139</td>\n",
              "      <td>3.806</td>\n",
              "      <td>[[238, 238, 235, 235, 233, 233, 231, 231, 229,...</td>\n",
              "      <td>0</td>\n",
              "    </tr>\n",
              "    <tr>\n",
              "      <th>4</th>\n",
              "      <td>33</td>\n",
              "      <td>30.5</td>\n",
              "      <td>34.0</td>\n",
              "      <td>6.116</td>\n",
              "      <td>1</td>\n",
              "      <td>17</td>\n",
              "      <td>4</td>\n",
              "      <td>7</td>\n",
              "      <td>3</td>\n",
              "      <td>3</td>\n",
              "      <td>1</td>\n",
              "      <td>18</td>\n",
              "      <td>9</td>\n",
              "      <td>27</td>\n",
              "      <td>0.26</td>\n",
              "      <td>0.405</td>\n",
              "      <td>0.116</td>\n",
              "      <td>2.735</td>\n",
              "      <td>[[75, 75, 82, 82, 82, 82, 104, 104, 121, 121, ...</td>\n",
              "      <td>0</td>\n",
              "    </tr>\n",
              "  </tbody>\n",
              "</table>\n",
              "</div>\n",
              "      <button class=\"colab-df-convert\" onclick=\"convertToInteractive('df-81b12f6b-17be-4939-944e-3d83daf938a7')\"\n",
              "              title=\"Convert this dataframe to an interactive table.\"\n",
              "              style=\"display:none;\">\n",
              "        \n",
              "  <svg xmlns=\"http://www.w3.org/2000/svg\" height=\"24px\"viewBox=\"0 0 24 24\"\n",
              "       width=\"24px\">\n",
              "    <path d=\"M0 0h24v24H0V0z\" fill=\"none\"/>\n",
              "    <path d=\"M18.56 5.44l.94 2.06.94-2.06 2.06-.94-2.06-.94-.94-2.06-.94 2.06-2.06.94zm-11 1L8.5 8.5l.94-2.06 2.06-.94-2.06-.94L8.5 2.5l-.94 2.06-2.06.94zm10 10l.94 2.06.94-2.06 2.06-.94-2.06-.94-.94-2.06-.94 2.06-2.06.94z\"/><path d=\"M17.41 7.96l-1.37-1.37c-.4-.4-.92-.59-1.43-.59-.52 0-1.04.2-1.43.59L10.3 9.45l-7.72 7.72c-.78.78-.78 2.05 0 2.83L4 21.41c.39.39.9.59 1.41.59.51 0 1.02-.2 1.41-.59l7.78-7.78 2.81-2.81c.8-.78.8-2.07 0-2.86zM5.41 20L4 18.59l7.72-7.72 1.47 1.35L5.41 20z\"/>\n",
              "  </svg>\n",
              "      </button>\n",
              "      \n",
              "  <style>\n",
              "    .colab-df-container {\n",
              "      display:flex;\n",
              "      flex-wrap:wrap;\n",
              "      gap: 12px;\n",
              "    }\n",
              "\n",
              "    .colab-df-convert {\n",
              "      background-color: #E8F0FE;\n",
              "      border: none;\n",
              "      border-radius: 50%;\n",
              "      cursor: pointer;\n",
              "      display: none;\n",
              "      fill: #1967D2;\n",
              "      height: 32px;\n",
              "      padding: 0 0 0 0;\n",
              "      width: 32px;\n",
              "    }\n",
              "\n",
              "    .colab-df-convert:hover {\n",
              "      background-color: #E2EBFA;\n",
              "      box-shadow: 0px 1px 2px rgba(60, 64, 67, 0.3), 0px 1px 3px 1px rgba(60, 64, 67, 0.15);\n",
              "      fill: #174EA6;\n",
              "    }\n",
              "\n",
              "    [theme=dark] .colab-df-convert {\n",
              "      background-color: #3B4455;\n",
              "      fill: #D2E3FC;\n",
              "    }\n",
              "\n",
              "    [theme=dark] .colab-df-convert:hover {\n",
              "      background-color: #434B5C;\n",
              "      box-shadow: 0px 1px 3px 1px rgba(0, 0, 0, 0.15);\n",
              "      filter: drop-shadow(0px 1px 2px rgba(0, 0, 0, 0.3));\n",
              "      fill: #FFFFFF;\n",
              "    }\n",
              "  </style>\n",
              "\n",
              "      <script>\n",
              "        const buttonEl =\n",
              "          document.querySelector('#df-81b12f6b-17be-4939-944e-3d83daf938a7 button.colab-df-convert');\n",
              "        buttonEl.style.display =\n",
              "          google.colab.kernel.accessAllowed ? 'block' : 'none';\n",
              "\n",
              "        async function convertToInteractive(key) {\n",
              "          const element = document.querySelector('#df-81b12f6b-17be-4939-944e-3d83daf938a7');\n",
              "          const dataTable =\n",
              "            await google.colab.kernel.invokeFunction('convertToInteractive',\n",
              "                                                     [key], {});\n",
              "          if (!dataTable) return;\n",
              "\n",
              "          const docLinkHtml = 'Like what you see? Visit the ' +\n",
              "            '<a target=\"_blank\" href=https://colab.research.google.com/notebooks/data_table.ipynb>data table notebook</a>'\n",
              "            + ' to learn more about interactive tables.';\n",
              "          element.innerHTML = '';\n",
              "          dataTable['output_type'] = 'display_data';\n",
              "          await google.colab.output.renderOutput(dataTable, element);\n",
              "          const docLink = document.createElement('div');\n",
              "          docLink.innerHTML = docLinkHtml;\n",
              "          element.appendChild(docLink);\n",
              "        }\n",
              "      </script>\n",
              "    </div>\n",
              "  </div>\n",
              "  "
            ]
          },
          "metadata": {},
          "execution_count": 7
        }
      ],
      "source": [
        "# creating a dataframe to see all the features we have extracted\n",
        "\n",
        "df = create_dataframe(features)\n",
        "df.head()"
      ]
    },
    {
      "cell_type": "code",
      "execution_count": 8,
      "metadata": {
        "colab": {
          "base_uri": "https://localhost:8080/"
        },
        "id": "K2d6kXQYboSP",
        "outputId": "b63711ba-426f-4a76-97b5-c877a10deb68"
      },
      "outputs": [
        {
          "output_type": "execute_result",
          "data": {
            "text/plain": [
              "(18076, 20)"
            ]
          },
          "metadata": {},
          "execution_count": 8
        }
      ],
      "source": [
        "df.shape"
      ]
    },
    {
      "cell_type": "code",
      "source": [
        "df.info()"
      ],
      "metadata": {
        "colab": {
          "base_uri": "https://localhost:8080/"
        },
        "id": "N4zCiP9ptC25",
        "outputId": "60a165dc-08cb-4b80-9a1e-e902227733ac"
      },
      "execution_count": 9,
      "outputs": [
        {
          "output_type": "stream",
          "name": "stdout",
          "text": [
            "<class 'pandas.core.frame.DataFrame'>\n",
            "RangeIndex: 18076 entries, 0 to 18075\n",
            "Data columns (total 20 columns):\n",
            " #   Column                  Non-Null Count  Dtype  \n",
            "---  ------                  --------------  -----  \n",
            " 0   eye_dist                18076 non-null  int32  \n",
            " 1   left_eyebrow_position   18076 non-null  float64\n",
            " 2   right_eyebrow_position  18076 non-null  float64\n",
            " 3   eyebrow_angle           18076 non-null  float64\n",
            " 4   mouth_height            18076 non-null  int32  \n",
            " 5   mouth_width             18076 non-null  int32  \n",
            " 6   left_eye_crow_feet      18076 non-null  int32  \n",
            " 7   right_eye_crow_feet     18076 non-null  int32  \n",
            " 8   left_eye_height         18076 non-null  int32  \n",
            " 9   right_eye_height        18076 non-null  int32  \n",
            " 10  nose_wrinkles           18076 non-null  int32  \n",
            " 11  jaw_tension             18076 non-null  int32  \n",
            " 12  brow_furrows            18076 non-null  int32  \n",
            " 13  chin_thrust             18076 non-null  int32  \n",
            " 14  left_EAR                18076 non-null  float64\n",
            " 15  right_EAR               18076 non-null  float64\n",
            " 16  MAR                     18076 non-null  float64\n",
            " 17  NAR                     18076 non-null  float64\n",
            " 18  Images                  18076 non-null  object \n",
            " 19  Labels                  18076 non-null  int64  \n",
            "dtypes: float64(7), int32(11), int64(1), object(1)\n",
            "memory usage: 2.0+ MB\n"
          ]
        }
      ]
    },
    {
      "cell_type": "code",
      "execution_count": 10,
      "metadata": {
        "colab": {
          "base_uri": "https://localhost:8080/"
        },
        "id": "lM28zYzKboSW",
        "outputId": "6aaff2fa-c698-4cee-9c16-41934fca765e"
      },
      "outputs": [
        {
          "output_type": "execute_result",
          "data": {
            "text/plain": [
              "[array([[177, 177, 122, ...,  55,  58,  58],\n",
              "        [177, 177, 122, ...,  55,  58,  58],\n",
              "        [119, 119,  50, ...,  44,  46,  46],\n",
              "        ...,\n",
              "        [254, 254, 255, ..., 254, 255, 255],\n",
              "        [255, 255, 254, ..., 255, 255, 255],\n",
              "        [255, 255, 254, ..., 255, 255, 255]], dtype=uint8),\n",
              " [47,\n",
              "  28.0,\n",
              "  38.0,\n",
              "  3.814,\n",
              "  6,\n",
              "  25,\n",
              "  4,\n",
              "  14,\n",
              "  5,\n",
              "  4,\n",
              "  0,\n",
              "  8,\n",
              "  12,\n",
              "  24,\n",
              "  0.36,\n",
              "  0.289,\n",
              "  0.254,\n",
              "  3.134],\n",
              " 0]"
            ]
          },
          "metadata": {},
          "execution_count": 10
        }
      ],
      "source": [
        "# sample of what a value in features contain\n",
        "\n",
        "features[0]"
      ]
    },
    {
      "cell_type": "code",
      "execution_count": 11,
      "metadata": {
        "id": "ZkgbDQD2boSX"
      },
      "outputs": [],
      "source": [
        "# Data Preprocessing\n",
        "\n",
        "def preprocessing(features, n):\n",
        "    \n",
        "    # shuffling the dataset\n",
        "    random.shuffle(features)\n",
        "\n",
        "    # assigning labels and features\n",
        "\n",
        "    X = []\n",
        "    feature = []\n",
        "    y = []\n",
        "    for image, feat, label in features:\n",
        "        X.append(image)\n",
        "        feature.append(feat)\n",
        "        y.append(label)\n",
        "\n",
        "    # resizing features in accordance with CNN(we have gray images)\n",
        "    X = np.array(X).reshape(-1, IMG_SIZE, IMG_SIZE, 1)\n",
        "\n",
        "    # Normalising X and converting labels to categorical features\n",
        "    X = X.astype('float32')\n",
        "    X /= 255\n",
        "\n",
        "    # scaling our features\n",
        "    scaler = StandardScaler()\n",
        "    feature = scaler.fit_transform(feature)\n",
        "\n",
        "    y = np_utils.to_categorical(y,n)\n",
        "\n",
        "    return X, feature, y"
      ]
    },
    {
      "cell_type": "code",
      "execution_count": 12,
      "metadata": {
        "id": "AQab-M-SboSY",
        "colab": {
          "base_uri": "https://localhost:8080/"
        },
        "outputId": "42958c2d-6210-4be0-beb3-3361f28a4f9e"
      },
      "outputs": [
        {
          "output_type": "execute_result",
          "data": {
            "text/plain": [
              "((18076, 96, 96, 1), (18076, 18), (18076, 4))"
            ]
          },
          "metadata": {},
          "execution_count": 12
        }
      ],
      "source": [
        "X, feat, y = preprocessing(features, 4)\n",
        "X.shape, feat.shape, y.shape"
      ]
    },
    {
      "cell_type": "code",
      "execution_count": 13,
      "metadata": {
        "id": "yKZqk4jAboSZ"
      },
      "outputs": [],
      "source": [
        "# callbacks\n",
        "\n",
        "model_name = 'EmotionDetectionFeat.h5'\n",
        "checkpoint = ModelCheckpoint(model_name,\n",
        "                            monitor='val_loss',\n",
        "                            mode='auto',\n",
        "                            verbose=1)\n",
        "earlystop = EarlyStopping(monitor='val_loss',\n",
        "                         min_delta=0,\n",
        "                         patience=3,\n",
        "                         verbose=1,\n",
        "                         restore_best_weights=True)\n",
        "redudeLR = ReduceLROnPlateau(monitor='val_loss',\n",
        "                            factor = 0.2,\n",
        "                            patience=1,\n",
        "                            verbose=1,\n",
        "                            min_delta=0.0001)\n",
        "callbacks = [earlystop, checkpoint, redudeLR]"
      ]
    },
    {
      "cell_type": "code",
      "source": [
        "gc.collect()"
      ],
      "metadata": {
        "colab": {
          "base_uri": "https://localhost:8080/"
        },
        "id": "EEjO8UNyEHsb",
        "outputId": "2b021bc2-0564-49ba-ee34-56b0d885f027"
      },
      "execution_count": 14,
      "outputs": [
        {
          "output_type": "execute_result",
          "data": {
            "text/plain": [
              "91"
            ]
          },
          "metadata": {},
          "execution_count": 14
        }
      ]
    },
    {
      "cell_type": "markdown",
      "source": [
        "### Model 1"
      ],
      "metadata": {
        "id": "spG-Dp4Ie8zc"
      }
    },
    {
      "cell_type": "code",
      "execution_count": 15,
      "metadata": {
        "colab": {
          "base_uri": "https://localhost:8080/"
        },
        "id": "M3rgOkb3boSZ",
        "outputId": "51ef1204-8af2-4aa0-eb14-c1988b6135b5"
      },
      "outputs": [
        {
          "output_type": "stream",
          "name": "stdout",
          "text": [
            "Epoch 1/20\n",
            "424/424 [==============================] - ETA: 0s - loss: 1.2301 - accuracy: 0.4469\n",
            "Epoch 1: saving model to EmotionDetectionFeat.h5\n",
            "424/424 [==============================] - 21s 20ms/step - loss: 1.2301 - accuracy: 0.4469 - val_loss: 1.0983 - val_accuracy: 0.5479 - lr: 0.0010\n",
            "Epoch 2/20\n",
            "422/424 [============================>.] - ETA: 0s - loss: 1.0059 - accuracy: 0.5699\n",
            "Epoch 2: saving model to EmotionDetectionFeat.h5\n",
            "424/424 [==============================] - 7s 17ms/step - loss: 1.0058 - accuracy: 0.5697 - val_loss: 0.9791 - val_accuracy: 0.5970 - lr: 0.0010\n",
            "Epoch 3/20\n",
            "421/424 [============================>.] - ETA: 0s - loss: 0.9217 - accuracy: 0.6109\n",
            "Epoch 3: saving model to EmotionDetectionFeat.h5\n",
            "424/424 [==============================] - 7s 17ms/step - loss: 0.9222 - accuracy: 0.6107 - val_loss: 0.9766 - val_accuracy: 0.6094 - lr: 0.0010\n",
            "Epoch 4/20\n",
            "424/424 [==============================] - ETA: 0s - loss: 0.8728 - accuracy: 0.6334\n",
            "Epoch 4: saving model to EmotionDetectionFeat.h5\n",
            "424/424 [==============================] - 7s 16ms/step - loss: 0.8728 - accuracy: 0.6334 - val_loss: 0.8329 - val_accuracy: 0.6586 - lr: 0.0010\n",
            "Epoch 5/20\n",
            "424/424 [==============================] - ETA: 0s - loss: 0.8346 - accuracy: 0.6516\n",
            "Epoch 5: saving model to EmotionDetectionFeat.h5\n",
            "\n",
            "Epoch 5: ReduceLROnPlateau reducing learning rate to 0.00020000000949949026.\n",
            "424/424 [==============================] - 7s 17ms/step - loss: 0.8346 - accuracy: 0.6516 - val_loss: 0.8369 - val_accuracy: 0.6530 - lr: 0.0010\n",
            "Epoch 6/20\n",
            "424/424 [==============================] - ETA: 0s - loss: 0.7523 - accuracy: 0.6934\n",
            "Epoch 6: saving model to EmotionDetectionFeat.h5\n",
            "424/424 [==============================] - 7s 16ms/step - loss: 0.7523 - accuracy: 0.6934 - val_loss: 0.8014 - val_accuracy: 0.6716 - lr: 2.0000e-04\n",
            "Epoch 7/20\n",
            "422/424 [============================>.] - ETA: 0s - loss: 0.7209 - accuracy: 0.7053\n",
            "Epoch 7: saving model to EmotionDetectionFeat.h5\n",
            "424/424 [==============================] - 7s 16ms/step - loss: 0.7212 - accuracy: 0.7049 - val_loss: 0.7979 - val_accuracy: 0.6732 - lr: 2.0000e-04\n",
            "Epoch 8/20\n",
            "424/424 [==============================] - ETA: 0s - loss: 0.6928 - accuracy: 0.7176\n",
            "Epoch 8: saving model to EmotionDetectionFeat.h5\n",
            "\n",
            "Epoch 8: ReduceLROnPlateau reducing learning rate to 4.0000001899898055e-05.\n",
            "424/424 [==============================] - 7s 16ms/step - loss: 0.6928 - accuracy: 0.7176 - val_loss: 0.8148 - val_accuracy: 0.6676 - lr: 2.0000e-04\n",
            "Epoch 9/20\n",
            "422/424 [============================>.] - ETA: 0s - loss: 0.6580 - accuracy: 0.7370\n",
            "Epoch 9: saving model to EmotionDetectionFeat.h5\n",
            "\n",
            "Epoch 9: ReduceLROnPlateau reducing learning rate to 8.000000525498762e-06.\n",
            "424/424 [==============================] - 7s 17ms/step - loss: 0.6580 - accuracy: 0.7369 - val_loss: 0.8109 - val_accuracy: 0.6758 - lr: 4.0000e-05\n",
            "Epoch 10/20\n",
            "421/424 [============================>.] - ETA: 0s - loss: 0.6496 - accuracy: 0.7409Restoring model weights from the end of the best epoch: 7.\n",
            "\n",
            "Epoch 10: saving model to EmotionDetectionFeat.h5\n",
            "\n",
            "Epoch 10: ReduceLROnPlateau reducing learning rate to 1.6000001778593287e-06.\n",
            "424/424 [==============================] - 7s 16ms/step - loss: 0.6493 - accuracy: 0.7407 - val_loss: 0.8035 - val_accuracy: 0.6785 - lr: 8.0000e-06\n",
            "Epoch 10: early stopping\n"
          ]
        }
      ],
      "source": [
        "# let's build our model\n",
        "\n",
        "# Define the input shapes for the image and feature inputs\n",
        "image_input_shape = (IMG_SIZE, IMG_SIZE, 1)\n",
        "feature_input_shape = (18,)\n",
        "\n",
        "# Define the image input layer\n",
        "image_input = Input(shape=image_input_shape, name='image_input')\n",
        "\n",
        "# Define the feature input layer\n",
        "feature_input = Input(shape=feature_input_shape, name='feature_input')\n",
        "\n",
        "# Define the CNN for image processing\n",
        "cnn = Sequential()\n",
        "\n",
        "cnn.add(Conv2D(32, kernel_size=(3,3), activation='relu', padding='same',\n",
        "                    input_shape=image_input_shape))\n",
        "cnn.add(BatchNormalization())\n",
        "cnn.add(MaxPooling2D(pool_size=(2,2)))\n",
        "\n",
        "cnn.add(Conv2D(32, kernel_size=(3,3), activation='relu', padding='same'))\n",
        "cnn.add(MaxPooling2D(pool_size=(2,2)))\n",
        "cnn.add(Dropout(0.25))\n",
        "\n",
        "            \n",
        "cnn.add(Conv2D(64, kernel_size=(3,3), activation='relu', padding='same'))\n",
        "cnn.add(MaxPooling2D(pool_size=(2,2)))\n",
        "\n",
        "\n",
        "cnn.add(Conv2D(128, kernel_size=(3,3), activation='relu', padding='same'))\n",
        "cnn.add(MaxPooling2D(pool_size=(2,2)))\n",
        "cnn.add(Dropout(0.25))\n",
        "\n",
        "cnn.add(Flatten())\n",
        "cnn.add(Dense(128, activation = 'relu'))\n",
        "cnn.add(Dropout(0.2))\n",
        "cnn.add(Dense(64, activation = 'relu'))\n",
        "    \n",
        "\n",
        "# Process the image input with the CNN\n",
        "image_features = cnn(image_input)\n",
        "\n",
        "# Concatenate the image features with the extracted features\n",
        "concatenated_features = concatenate([image_features, feature_input])\n",
        "\n",
        "# Define the output layer\n",
        "output = Dense(4, activation='softmax', name='output')(concatenated_features)\n",
        "\n",
        "# Define the model\n",
        "model = Model(inputs=[image_input, feature_input], outputs=output)\n",
        "\n",
        "# Compile the model\n",
        "model.compile(optimizer='adam', loss='categorical_crossentropy', metrics=['accuracy'])\n",
        "\n",
        "# Train the model\n",
        "history = model.fit([X, feat], y, epochs=20, validation_split=0.25, callbacks=callbacks)"
      ]
    },
    {
      "cell_type": "code",
      "execution_count": 16,
      "metadata": {
        "colab": {
          "base_uri": "https://localhost:8080/",
          "height": 297
        },
        "id": "arko8ijyboSa",
        "outputId": "37d89367-d632-4bf9-ea13-ff3ee291aa6e"
      },
      "outputs": [
        {
          "output_type": "display_data",
          "data": {
            "text/plain": [
              "<Figure size 576x288 with 2 Axes>"
            ],
            "image/png": "[encoded data removed]"
          },
          "metadata": {
            "needs_background": "light"
          }
        }
      ],
      "source": [
        "def plotting(history):\n",
        "\n",
        "  plt.figure(figsize=(8,4))\n",
        "  \n",
        "  plt.subplot(1, 2, 1)\n",
        "  sns.lineplot(x=history.epoch, y=history.history['accuracy'], label='training')\n",
        "  sns.lineplot(x=history.epoch, y=history.history['val_accuracy'], label='valid')\n",
        "  plt.title('Accuracy')\n",
        "\n",
        "  plt.subplot(1, 2, 2)\n",
        "  sns.lineplot(x=history.epoch, y=history.history['loss'], label='training')\n",
        "  sns.lineplot(x=history.epoch, y=history.history['val_loss'], label='valid')\n",
        "  plt.title('Loss')\n",
        "\n",
        "  plt.tight_layout()\n",
        "  plt.show()\n",
        "\n",
        "plotting(history)"
      ]
    },
    {
      "cell_type": "code",
      "source": [
        "gc.collect()"
      ],
      "metadata": {
        "colab": {
          "base_uri": "https://localhost:8080/"
        },
        "id": "Drt0dexPgT58",
        "outputId": "deba6433-b402-4da4-c0aa-c31cdceb138c"
      },
      "execution_count": 17,
      "outputs": [
        {
          "output_type": "execute_result",
          "data": {
            "text/plain": [
              "2570"
            ]
          },
          "metadata": {},
          "execution_count": 17
        }
      ]
    },
    {
      "cell_type": "markdown",
      "source": [
        "### Model 2"
      ],
      "metadata": {
        "id": "Uw0LVV8Re1WI"
      }
    },
    {
      "cell_type": "code",
      "source": [
        "cnn2 = Sequential()\n",
        "cnn2.add(Conv2D(32, kernel_size=(3, 3), padding='same', activation='relu', input_shape=image_input_shape))\n",
        "cnn2.add(Conv2D(64,(3,3), padding='same', activation='relu' ))\n",
        "cnn2.add(BatchNormalization())\n",
        "cnn2.add(MaxPooling2D(pool_size=(2, 2)))\n",
        "cnn2.add(Dropout(0.25))\n",
        "\n",
        "cnn2.add(Conv2D(128,(5,5), padding='same', activation='relu'))\n",
        "cnn2.add(BatchNormalization())\n",
        "cnn2.add(MaxPooling2D(pool_size=(2, 2)))\n",
        "cnn2.add(Dropout(0.25))\n",
        "    \n",
        "cnn2.add(Conv2D(512,(3,3), padding='same', activation='relu', kernel_regularizer=regularizers.l2(0.01)))\n",
        "cnn2.add(BatchNormalization())\n",
        "cnn2.add(MaxPooling2D(pool_size=(2, 2)))\n",
        "cnn2.add(Dropout(0.25))\n",
        "\n",
        "cnn2.add(Conv2D(512,(3,3), padding='same', activation='relu', kernel_regularizer=regularizers.l2(0.01)))\n",
        "cnn2.add(BatchNormalization())\n",
        "cnn2.add(MaxPooling2D(pool_size=(2, 2)))\n",
        "cnn2.add(Dropout(0.25))\n",
        "\n",
        "cnn2.add(Flatten()) \n",
        "cnn2.add(Dense(256,activation = 'relu'))\n",
        "cnn2.add(BatchNormalization())\n",
        "cnn2.add(Dropout(0.25))\n",
        "    \n",
        "cnn2.add(Dense(64,activation = 'relu'))\n",
        "cnn2.add(BatchNormalization())\n",
        "cnn2.add(Dropout(0.25))\n",
        "\n",
        "\n",
        "# Process the image input with the CNN\n",
        "image_features = cnn(image_input)\n",
        "\n",
        "# Concatenate the image features with the extracted features\n",
        "concatenated_features = concatenate([image_features, feature_input])\n",
        "\n",
        "# Define the output layer\n",
        "output = Dense(4, activation='softmax', name='output')(concatenated_features)\n",
        "\n",
        "# Define the model\n",
        "model2 = Model(inputs=[image_input, feature_input], outputs=output)\n",
        "\n",
        "# Compile the model\n",
        "model2.compile(optimizer='adam', loss='categorical_crossentropy', metrics=['accuracy'])\n",
        "\n",
        "# Train the model\n",
        "history2 = model2.fit([X, feat], y, epochs=20, validation_split=0.2, callbacks=callbacks)"
      ],
      "metadata": {
        "colab": {
          "base_uri": "https://localhost:8080/"
        },
        "id": "B1XXnJa5RNvU",
        "outputId": "e8cdd66e-fc76-4b43-a1be-6ce6606000bd"
      },
      "execution_count": 18,
      "outputs": [
        {
          "output_type": "stream",
          "name": "stdout",
          "text": [
            "Epoch 1/20\n",
            "452/452 [==============================] - ETA: 0s - loss: 0.9208 - accuracy: 0.6098\n",
            "Epoch 1: saving model to EmotionDetectionFeat.h5\n",
            "452/452 [==============================] - 10s 18ms/step - loss: 0.9208 - accuracy: 0.6098 - val_loss: 0.8763 - val_accuracy: 0.6397 - lr: 0.0010\n",
            "Epoch 2/20\n",
            "450/452 [============================>.] - ETA: 0s - loss: 0.7776 - accuracy: 0.6860\n",
            "Epoch 2: saving model to EmotionDetectionFeat.h5\n",
            "452/452 [==============================] - 7s 16ms/step - loss: 0.7777 - accuracy: 0.6862 - val_loss: 0.8135 - val_accuracy: 0.6574 - lr: 0.0010\n",
            "Epoch 3/20\n",
            "451/452 [============================>.] - ETA: 0s - loss: 0.7265 - accuracy: 0.7045\n",
            "Epoch 3: saving model to EmotionDetectionFeat.h5\n",
            "\n",
            "Epoch 3: ReduceLROnPlateau reducing learning rate to 0.00020000000949949026.\n",
            "452/452 [==============================] - 7s 16ms/step - loss: 0.7264 - accuracy: 0.7045 - val_loss: 0.8537 - val_accuracy: 0.6485 - lr: 0.0010\n",
            "Epoch 4/20\n",
            "449/452 [============================>.] - ETA: 0s - loss: 0.6325 - accuracy: 0.7451\n",
            "Epoch 4: saving model to EmotionDetectionFeat.h5\n",
            "452/452 [==============================] - 7s 16ms/step - loss: 0.6322 - accuracy: 0.7456 - val_loss: 0.8127 - val_accuracy: 0.6809 - lr: 2.0000e-04\n",
            "Epoch 5/20\n",
            "449/452 [============================>.] - ETA: 0s - loss: 0.5920 - accuracy: 0.7638\n",
            "Epoch 5: saving model to EmotionDetectionFeat.h5\n",
            "452/452 [==============================] - 8s 17ms/step - loss: 0.5916 - accuracy: 0.7638 - val_loss: 0.8067 - val_accuracy: 0.6825 - lr: 2.0000e-04\n",
            "Epoch 6/20\n",
            "451/452 [============================>.] - ETA: 0s - loss: 0.5646 - accuracy: 0.7779\n",
            "Epoch 6: saving model to EmotionDetectionFeat.h5\n",
            "452/452 [==============================] - 9s 20ms/step - loss: 0.5643 - accuracy: 0.7779 - val_loss: 0.8057 - val_accuracy: 0.6842 - lr: 2.0000e-04\n",
            "Epoch 7/20\n",
            "452/452 [==============================] - ETA: 0s - loss: 0.5396 - accuracy: 0.7863\n",
            "Epoch 7: saving model to EmotionDetectionFeat.h5\n",
            "\n",
            "Epoch 7: ReduceLROnPlateau reducing learning rate to 4.0000001899898055e-05.\n",
            "452/452 [==============================] - 9s 21ms/step - loss: 0.5396 - accuracy: 0.7863 - val_loss: 0.8298 - val_accuracy: 0.6836 - lr: 2.0000e-04\n",
            "Epoch 8/20\n",
            "452/452 [==============================] - ETA: 0s - loss: 0.5011 - accuracy: 0.8055\n",
            "Epoch 8: saving model to EmotionDetectionFeat.h5\n",
            "\n",
            "Epoch 8: ReduceLROnPlateau reducing learning rate to 8.000000525498762e-06.\n",
            "452/452 [==============================] - 9s 20ms/step - loss: 0.5011 - accuracy: 0.8055 - val_loss: 0.8304 - val_accuracy: 0.6853 - lr: 4.0000e-05\n",
            "Epoch 9/20\n",
            "452/452 [==============================] - ETA: 0s - loss: 0.5023 - accuracy: 0.8037Restoring model weights from the end of the best epoch: 6.\n",
            "\n",
            "Epoch 9: saving model to EmotionDetectionFeat.h5\n",
            "\n",
            "Epoch 9: ReduceLROnPlateau reducing learning rate to 1.6000001778593287e-06.\n",
            "452/452 [==============================] - 8s 18ms/step - loss: 0.5023 - accuracy: 0.8037 - val_loss: 0.8288 - val_accuracy: 0.6869 - lr: 8.0000e-06\n",
            "Epoch 9: early stopping\n"
          ]
        }
      ]
    },
    {
      "cell_type": "code",
      "source": [
        "plotting(history2)"
      ],
      "metadata": {
        "colab": {
          "base_uri": "https://localhost:8080/",
          "height": 297
        },
        "id": "f9YBM9DXSuOJ",
        "outputId": "41736786-c91c-4abb-d0cb-338249eccf66"
      },
      "execution_count": 19,
      "outputs": [
        {
          "output_type": "display_data",
          "data": {
            "text/plain": [
              "<Figure size 576x288 with 2 Axes>"
            ],
            "image/png": "[encoded data removed]"
          },
          "metadata": {
            "needs_background": "light"
          }
        }
      ]
    },
    {
      "cell_type": "markdown",
      "source": [
        "* The second model is has got more layers and is bigger, it is overfitting like crazy. Let's go with a more simpler model i.e our first model and try to augment our data to reduce the overfitting."
      ],
      "metadata": {
        "id": "IhfLuwtjTLmC"
      }
    },
    {
      "cell_type": "markdown",
      "source": [
        "#### Data Augmentation"
      ],
      "metadata": {
        "id": "LQm3BLgYS5N3"
      }
    },
    {
      "cell_type": "code",
      "source": [
        "# flipping horizontally and vertically\n",
        "def flipping(img):\n",
        "    # horizontal\n",
        "    hflip = iaa.Fliplr(p=1.0)\n",
        "    imgH = hflip.augment_image(img)\n",
        "\n",
        "    # vertical\n",
        "    vflip = iaa.Flipud(p=1.0)\n",
        "    imgV = vflip.augment_image(img)\n",
        "\n",
        "    return imgH, imgV\n",
        "\n",
        "# rotating by 45 and 90\n",
        "def rotation(img):\n",
        "    rot1 = iaa.Rotate((-45, 45))\n",
        "    img1 = rot1.augment_image(img)\n",
        "\n",
        "    rot2 = aug = iaa.Rotate((-90, 90))\n",
        "    img2 = rot2.augment_image(img)\n",
        "\n",
        "    return img1, img2\n",
        "\n",
        "# adding some noise i.e. blurring our image\n",
        "def noise(img):\n",
        "    noise=iaa.AdditiveGaussianNoise(10,10)\n",
        "    input_noise=noise.augment_image(img)\n",
        "\n",
        "    return input_noise"
      ],
      "metadata": {
        "id": "N8d6YKuASxZ5"
      },
      "execution_count": 20,
      "outputs": []
    },
    {
      "cell_type": "code",
      "source": [
        "# adding augmented images using above function and adding to our training data\n",
        "\n",
        "count = 0\n",
        "features_aug = features.copy()\n",
        "for i in range(0, len(features), 1):\n",
        "  img = features[i][0]\n",
        "\n",
        "  imgH, imgV = flipping(img)\n",
        "  img45, img90 = rotation(img)\n",
        "  noisee = noise(img)\n",
        "\n",
        "  augmented = [imgH, imgV, img45, img90, noisee]\n",
        "  for aug in augmented:\n",
        "    try:\n",
        "      # detect the faces\n",
        "      landmarks = extract_face_landmarks(aug)\n",
        "      print(landmarks.shape)\n",
        "      features_aug.append([aug, extract_features(landmarks), features[i][2]])\n",
        "\n",
        "    except:\n",
        "      count += 1"
      ],
      "metadata": {
        "id": "hCilfsZFSw1N"
      },
      "execution_count": null,
      "outputs": []
    },
    {
      "cell_type": "markdown",
      "source": [
        "Can't augment my data here, memory seems to run out and the session gets crashed. I'm gonna load the features list from the pickle file."
      ],
      "metadata": {
        "id": "Yc-uCRJGgjNS"
      }
    },
    {
      "cell_type": "code",
      "source": [
        "with open('/content/drive/MyDrive/Colab Notebooks/featuresAug96.pkl', 'rb') as f:\n",
        "  features = pickle.load(f)\n",
        "\n",
        "X, feat, y = preprocessing(features, 4)\n",
        "X.shape, feat.shape, y.shape"
      ],
      "metadata": {
        "colab": {
          "base_uri": "https://localhost:8080/"
        },
        "id": "3YQtMb2Bg3Qg",
        "outputId": "2d61d2b7-66af-43e6-a827-c3767e79f69f"
      },
      "execution_count": 21,
      "outputs": [
        {
          "output_type": "execute_result",
          "data": {
            "text/plain": [
              "((73149, 96, 96, 1), (73149, 18), (73149, 4))"
            ]
          },
          "metadata": {},
          "execution_count": 21
        }
      ]
    },
    {
      "cell_type": "code",
      "source": [
        "gc.collect()"
      ],
      "metadata": {
        "colab": {
          "base_uri": "https://localhost:8080/"
        },
        "id": "DuXpIlSEiB68",
        "outputId": "5c09089f-2107-4f6f-cf6e-fd517f333eb8"
      },
      "execution_count": 22,
      "outputs": [
        {
          "output_type": "execute_result",
          "data": {
            "text/plain": [
              "7958"
            ]
          },
          "metadata": {},
          "execution_count": 22
        }
      ]
    },
    {
      "cell_type": "markdown",
      "source": [
        "### Model 3\n",
        "Let's train the first model wit few minor changes on our augmneted dataset."
      ],
      "metadata": {
        "id": "Ti1flmu3h4GG"
      }
    },
    {
      "cell_type": "code",
      "source": [
        "# let's build our model\n",
        "\n",
        "# Define the input shapes for the image and feature inputs\n",
        "image_input_shape = (IMG_SIZE, IMG_SIZE, 1)\n",
        "feature_input_shape = (18,)\n",
        "\n",
        "# Define the image input layer\n",
        "image_input = Input(shape=image_input_shape, name='image_input')\n",
        "\n",
        "# Define the feature input layer\n",
        "feature_input = Input(shape=feature_input_shape, name='feature_input')\n",
        "\n",
        "# Define the CNN for image processing\n",
        "cnn = Sequential()\n",
        "\n",
        "cnn.add(Conv2D(32, kernel_size=(3,3), activation='relu', padding='same',\n",
        "                    input_shape=image_input_shape))\n",
        "cnn.add(BatchNormalization())\n",
        "cnn.add(MaxPooling2D(pool_size=(2,2)))\n",
        "\n",
        "cnn.add(Conv2D(32, kernel_size=(3,3), activation='relu', padding='same'))\n",
        "cnn.add(MaxPooling2D(pool_size=(2,2)))\n",
        "cnn.add(Dropout(0.25))\n",
        "\n",
        "cnn.add(Conv2D(64, kernel_size=(3,3), activation='relu', padding='same'))\n",
        "cnn.add(Conv2D(64, kernel_size=(3,3), activation='relu', padding='same'))\n",
        "cnn.add(MaxPooling2D(pool_size=(2,2)))\n",
        "\n",
        "\n",
        "cnn.add(Conv2D(128, kernel_size=(3,3), activation='relu', padding='same'))\n",
        "cnn.add(MaxPooling2D(pool_size=(2,2)))\n",
        "cnn.add(Dropout(0.25))\n",
        "\n",
        "cnn.add(Flatten())\n",
        "cnn.add(Dense(128, activation = 'relu'))\n",
        "cnn.add(Dropout(0.2))\n",
        "cnn.add(Dense(64, activation = 'relu'))\n",
        "    \n",
        "\n",
        "# Process the image input with the CNN\n",
        "image_features = cnn(image_input)\n",
        "\n",
        "# Concatenate the image features with the extracted features\n",
        "concatenated_features = concatenate([image_features, feature_input])\n",
        "\n",
        "# Define the output layer\n",
        "output = Dense(4, activation='softmax', name='output')(concatenated_features)\n",
        "\n",
        "# Define the model\n",
        "model = Model(inputs=[image_input, feature_input], outputs=output)\n",
        "\n",
        "# Compile the model\n",
        "model.compile(optimizer='adam', loss='categorical_crossentropy', metrics=['accuracy'])\n",
        "\n",
        "# Train the model\n",
        "history = model.fit([X, feat], y, epochs=20, validation_split=0.25, callbacks=callbacks)"
      ],
      "metadata": {
        "colab": {
          "base_uri": "https://localhost:8080/"
        },
        "id": "-gr2R3dehWFZ",
        "outputId": "8b556677-e8ef-4147-99ee-05e78246d93f"
      },
      "execution_count": 23,
      "outputs": [
        {
          "output_type": "stream",
          "name": "stdout",
          "text": [
            "Epoch 1/20\n",
            "1715/1715 [==============================] - ETA: 0s - loss: 1.0478 - accuracy: 0.5479\n",
            "Epoch 1: saving model to EmotionDetectionFeat.h5\n",
            "1715/1715 [==============================] - 35s 19ms/step - loss: 1.0478 - accuracy: 0.5479 - val_loss: 0.8935 - val_accuracy: 0.6252 - lr: 0.0010\n",
            "Epoch 2/20\n",
            "1714/1715 [============================>.] - ETA: 0s - loss: 0.8658 - accuracy: 0.6384\n",
            "Epoch 2: saving model to EmotionDetectionFeat.h5\n",
            "1715/1715 [==============================] - 30s 17ms/step - loss: 0.8657 - accuracy: 0.6384 - val_loss: 0.8252 - val_accuracy: 0.6566 - lr: 0.0010\n",
            "Epoch 3/20\n",
            "1714/1715 [============================>.] - ETA: 0s - loss: 0.8075 - accuracy: 0.6670\n",
            "Epoch 3: saving model to EmotionDetectionFeat.h5\n",
            "1715/1715 [==============================] - 34s 20ms/step - loss: 0.8076 - accuracy: 0.6670 - val_loss: 0.8006 - val_accuracy: 0.6660 - lr: 0.0010\n",
            "Epoch 4/20\n",
            "1713/1715 [============================>.] - ETA: 0s - loss: 0.7673 - accuracy: 0.6881\n",
            "Epoch 4: saving model to EmotionDetectionFeat.h5\n",
            "1715/1715 [==============================] - 34s 20ms/step - loss: 0.7673 - accuracy: 0.6881 - val_loss: 0.7699 - val_accuracy: 0.6795 - lr: 0.0010\n",
            "Epoch 5/20\n",
            "1713/1715 [============================>.] - ETA: 0s - loss: 0.7317 - accuracy: 0.7030\n",
            "Epoch 5: saving model to EmotionDetectionFeat.h5\n",
            "1715/1715 [==============================] - 33s 19ms/step - loss: 0.7317 - accuracy: 0.7030 - val_loss: 0.7451 - val_accuracy: 0.6919 - lr: 0.0010\n",
            "Epoch 6/20\n",
            "1714/1715 [============================>.] - ETA: 0s - loss: 0.6988 - accuracy: 0.7177\n",
            "Epoch 6: saving model to EmotionDetectionFeat.h5\n",
            "1715/1715 [==============================] - 30s 17ms/step - loss: 0.6989 - accuracy: 0.7177 - val_loss: 0.7003 - val_accuracy: 0.7142 - lr: 0.0010\n",
            "Epoch 7/20\n",
            "1714/1715 [============================>.] - ETA: 0s - loss: 0.6692 - accuracy: 0.7319\n",
            "Epoch 7: saving model to EmotionDetectionFeat.h5\n",
            "1715/1715 [==============================] - 30s 18ms/step - loss: 0.6692 - accuracy: 0.7319 - val_loss: 0.6855 - val_accuracy: 0.7234 - lr: 0.0010\n",
            "Epoch 8/20\n",
            "1713/1715 [============================>.] - ETA: 0s - loss: 0.6400 - accuracy: 0.7432\n",
            "Epoch 8: saving model to EmotionDetectionFeat.h5\n",
            "1715/1715 [==============================] - 30s 17ms/step - loss: 0.6399 - accuracy: 0.7432 - val_loss: 0.6843 - val_accuracy: 0.7248 - lr: 0.0010\n",
            "Epoch 9/20\n",
            "1713/1715 [============================>.] - ETA: 0s - loss: 0.6100 - accuracy: 0.7569\n",
            "Epoch 9: saving model to EmotionDetectionFeat.h5\n",
            "\n",
            "Epoch 9: ReduceLROnPlateau reducing learning rate to 0.00020000000949949026.\n",
            "1715/1715 [==============================] - 35s 20ms/step - loss: 0.6098 - accuracy: 0.7570 - val_loss: 0.7397 - val_accuracy: 0.6971 - lr: 0.0010\n",
            "Epoch 10/20\n",
            "1715/1715 [==============================] - ETA: 0s - loss: 0.5148 - accuracy: 0.7973\n",
            "Epoch 10: saving model to EmotionDetectionFeat.h5\n",
            "1715/1715 [==============================] - 36s 21ms/step - loss: 0.5148 - accuracy: 0.7973 - val_loss: 0.6009 - val_accuracy: 0.7631 - lr: 2.0000e-04\n",
            "Epoch 11/20\n",
            "1714/1715 [============================>.] - ETA: 0s - loss: 0.4829 - accuracy: 0.8102\n",
            "Epoch 11: saving model to EmotionDetectionFeat.h5\n",
            "1715/1715 [==============================] - 30s 18ms/step - loss: 0.4829 - accuracy: 0.8102 - val_loss: 0.5906 - val_accuracy: 0.7684 - lr: 2.0000e-04\n",
            "Epoch 12/20\n",
            "1714/1715 [============================>.] - ETA: 0s - loss: 0.4627 - accuracy: 0.8186\n",
            "Epoch 12: saving model to EmotionDetectionFeat.h5\n",
            "1715/1715 [==============================] - 30s 18ms/step - loss: 0.4627 - accuracy: 0.8186 - val_loss: 0.5847 - val_accuracy: 0.7723 - lr: 2.0000e-04\n",
            "Epoch 13/20\n",
            "1715/1715 [==============================] - ETA: 0s - loss: 0.4455 - accuracy: 0.8262\n",
            "Epoch 13: saving model to EmotionDetectionFeat.h5\n",
            "\n",
            "Epoch 13: ReduceLROnPlateau reducing learning rate to 4.0000001899898055e-05.\n",
            "1715/1715 [==============================] - 32s 19ms/step - loss: 0.4455 - accuracy: 0.8262 - val_loss: 0.5848 - val_accuracy: 0.7758 - lr: 2.0000e-04\n",
            "Epoch 14/20\n",
            "1713/1715 [============================>.] - ETA: 0s - loss: 0.4185 - accuracy: 0.8373\n",
            "Epoch 14: saving model to EmotionDetectionFeat.h5\n",
            "1715/1715 [==============================] - 33s 19ms/step - loss: 0.4185 - accuracy: 0.8374 - val_loss: 0.5727 - val_accuracy: 0.7818 - lr: 4.0000e-05\n",
            "Epoch 15/20\n",
            "1713/1715 [============================>.] - ETA: 0s - loss: 0.4113 - accuracy: 0.8399\n",
            "Epoch 15: saving model to EmotionDetectionFeat.h5\n",
            "1715/1715 [==============================] - 35s 21ms/step - loss: 0.4113 - accuracy: 0.8399 - val_loss: 0.5702 - val_accuracy: 0.7834 - lr: 4.0000e-05\n",
            "Epoch 16/20\n",
            "1713/1715 [============================>.] - ETA: 0s - loss: 0.4111 - accuracy: 0.8400\n",
            "Epoch 16: saving model to EmotionDetectionFeat.h5\n",
            "1715/1715 [==============================] - 34s 20ms/step - loss: 0.4110 - accuracy: 0.8401 - val_loss: 0.5685 - val_accuracy: 0.7844 - lr: 4.0000e-05\n",
            "Epoch 17/20\n",
            "1713/1715 [============================>.] - ETA: 0s - loss: 0.3995 - accuracy: 0.8451\n",
            "Epoch 17: saving model to EmotionDetectionFeat.h5\n",
            "1715/1715 [==============================] - 36s 21ms/step - loss: 0.3995 - accuracy: 0.8451 - val_loss: 0.5678 - val_accuracy: 0.7858 - lr: 4.0000e-05\n",
            "Epoch 18/20\n",
            "1712/1715 [============================>.] - ETA: 0s - loss: 0.4008 - accuracy: 0.8437\n",
            "Epoch 18: saving model to EmotionDetectionFeat.h5\n",
            "1715/1715 [==============================] - 35s 20ms/step - loss: 0.4008 - accuracy: 0.8438 - val_loss: 0.5664 - val_accuracy: 0.7885 - lr: 4.0000e-05\n",
            "Epoch 19/20\n",
            "1714/1715 [============================>.] - ETA: 0s - loss: 0.3929 - accuracy: 0.8456\n",
            "Epoch 19: saving model to EmotionDetectionFeat.h5\n",
            "1715/1715 [==============================] - 31s 18ms/step - loss: 0.3930 - accuracy: 0.8456 - val_loss: 0.5658 - val_accuracy: 0.7868 - lr: 4.0000e-05\n",
            "Epoch 20/20\n",
            "1713/1715 [============================>.] - ETA: 0s - loss: 0.3918 - accuracy: 0.8472\n",
            "Epoch 20: saving model to EmotionDetectionFeat.h5\n",
            "\n",
            "Epoch 20: ReduceLROnPlateau reducing learning rate to 8.000000525498762e-06.\n",
            "1715/1715 [==============================] - 33s 19ms/step - loss: 0.3917 - accuracy: 0.8472 - val_loss: 0.5673 - val_accuracy: 0.7882 - lr: 4.0000e-05\n"
          ]
        }
      ]
    },
    {
      "cell_type": "code",
      "source": [
        "plotting(history)"
      ],
      "metadata": {
        "colab": {
          "base_uri": "https://localhost:8080/",
          "height": 297
        },
        "id": "pSxb5qCuiJMf",
        "outputId": "84a7d056-de01-4d3d-dda5-292fa708f22e"
      },
      "execution_count": 24,
      "outputs": [
        {
          "output_type": "display_data",
          "data": {
            "text/plain": [
              "<Figure size 576x288 with 2 Axes>"
            ],
            "image/png": "[encoded data removed]"
          },
          "metadata": {
            "needs_background": "light"
          }
        }
      ]
    },
    {
      "cell_type": "markdown",
      "source": [
        "### **Conclusion**\n",
        "\n",
        "* The model got dynamic which the soft features that we extracted from the images.\n",
        "* To start with the available FER is not good, with help better data collection can makes this model do wonders in deployment.\n",
        "* Not able to train this model with images of higher dimension because of computational and storage constraint is also a bit hindrance.\n",
        "\n",
        "Inspite of all this, with the 18 features extracted from an image our model is definitely working better and more biased towards the aim of finding whether the emotion is real or not. With the soft features it takes into account, it is more susceptible to miniscule changes.\n",
        "\n",
        "* Furthermore, \n",
        "\n",
        "  1) We can move towards **body postures** and the information it conveys and, \n",
        "\n",
        "  2) Parsing through a person's speech via **speech analysis** algorithms that can detect changes in pitch, tone, and other characteristics that may indicate sincerity or insincerity."
      ],
      "metadata": {
        "id": "-PI268CaihHs"
      }
    }
  ],
  "metadata": {
    "kernelspec": {
      "display_name": "base",
      "language": "python",
      "name": "python3"
    },
    "language_info": {
      "codemirror_mode": {
        "name": "ipython",
        "version": 3
      },
      "file_extension": ".py",
      "mimetype": "text/x-python",
      "name": "python",
      "nbconvert_exporter": "python",
      "pygments_lexer": "ipython3",
      "version": "3.9.13"
    },
    "orig_nbformat": 4,
    "colab": {
      "provenance": []
    },
    "gpuClass": "standard",
    "accelerator": "GPU"
  },
  "nbformat": 4,
  "nbformat_minor": 0
}